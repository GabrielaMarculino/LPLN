{
  "nbformat": 4,
  "nbformat_minor": 0,
  "metadata": {
    "colab": {
      "provenance": [],
      "authorship_tag": "ABX9TyNdshb/yAMO8KEPECEF00Ed",
      "include_colab_link": true
    },
    "kernelspec": {
      "name": "python3",
      "display_name": "Python 3"
    },
    "language_info": {
      "name": "python"
    }
  },
  "cells": [
    {
      "cell_type": "markdown",
      "metadata": {
        "id": "view-in-github",
        "colab_type": "text"
      },
      "source": [
        "<a href=\"https://colab.research.google.com/github/GabrielaMarculino/LPLN/blob/main/C%C3%B3pia_de_aula_01LPLN.ipynb\" target=\"_parent\"><img src=\"https://colab.research.google.com/assets/colab-badge.svg\" alt=\"Open In Colab\"/></a>"
      ]
    },
    {
      "cell_type": "markdown",
      "source": [
        "#Exemplo 01 - Expressão Regular\n",
        "##Introdução à Processamento de Linguagem Natural\n"
      ],
      "metadata": {
        "id": "CE-rKLw7C-c-"
      }
    },
    {
      "cell_type": "code",
      "source": [
        "import re # biblioteca utilizada para definir expressões regulares\n",
        "\n",
        "poema = \"\"\"Ainda que mal\n",
        "\n",
        "Ainda que mal pergunte,\n",
        "ainda que mal respondas;\n",
        "ainda que mal te entenda,\n",
        "ainda que mal repitas;\n",
        "ainda que mal insista,\n",
        "ainda que mal desculpes;\n",
        "ainda que mal me exprima,\n",
        "ainda que mal me julgues;\n",
        "ainda que mal me mostre,\n",
        "ainda que mal me vejas;\n",
        "ainda que mal te encare,\n",
        "ainda que mal te furtes;\n",
        "ainda que mal te siga,\n",
        "ainda que mal te voltes;\n",
        "ainda que mal te ame,\n",
        "ainda que mal o saibas;\n",
        "ainda que mal te agarre,\n",
        "ainda que mal te mates;\n",
        "ainda assim te pergunto\n",
        "e me queimando em teu seio,\n",
        "me salvo e me dano;\"\"\"\n",
        "\n",
        "re.findall(r\"mal\", poema) # método findall retorna todas as ocorrências de um padrão numa determinada string\n",
        "\n",
        "# len(re.findall(r\"mal\", poema))"
      ],
      "metadata": {
        "colab": {
          "base_uri": "https://localhost:8080/"
        },
        "id": "-l7dkceaDBBR",
        "outputId": "b7c6d31b-14aa-4de8-b892-2b96a698a023"
      },
      "execution_count": null,
      "outputs": [
        {
          "output_type": "execute_result",
          "data": {
            "text/plain": [
              "19"
            ]
          },
          "metadata": {},
          "execution_count": 2
        }
      ]
    },
    {
      "cell_type": "markdown",
      "source": [
        "#Exemplo 2 - Disjunção"
      ],
      "metadata": {
        "id": "O8Nthh5zFjtC"
      }
    },
    {
      "cell_type": "code",
      "source": [
        "import re # biblioteca utilizada para definir expressões regulares\n",
        "\n",
        "poema = \"\"\"Ainda que mal\n",
        "\n",
        "Ainda que mal pergunte,\n",
        "ainda que mal respondas;\n",
        "ainda que mal te entenda,\n",
        "ainda que mal repitas;\n",
        "ainda que mal insista,\n",
        "ainda que mal desculpes;\n",
        "ainda que mal me exprima,\n",
        "ainda que mal me julgues;\n",
        "ainda que mal me mostre,\n",
        "ainda que mal me vejas;\n",
        "ainda que mal te encare,\n",
        "ainda que mal te furtes;\n",
        "ainda que mal te siga,\n",
        "ainda que mal te voltes;\n",
        "ainda que mal te ame,\n",
        "ainda que mal o saibas;\n",
        "ainda que mal te agarre,\n",
        "ainda que mal te mates;\n",
        "ainda assim te pergunto\n",
        "e me queimando em teu seio,\n",
        "me salvo e me dano;\"\"\"\n",
        "\n",
        "re.findall(r\"[Aa]inda que mal\", poema) # método findall retorna todas as ocorrências de um padrão numa determinada string\n",
        "             # [Aa] - disjunção\n",
        "# len(re.findall(r\"[Aa]inda que mal\", poema))"
      ],
      "metadata": {
        "colab": {
          "base_uri": "https://localhost:8080/"
        },
        "id": "pDv2L9klFoWP",
        "outputId": "09c3df39-25ec-41f1-f72a-abdf2f819089"
      },
      "execution_count": null,
      "outputs": [
        {
          "output_type": "execute_result",
          "data": {
            "text/plain": [
              "['Ainda que mal',\n",
              " 'Ainda que mal',\n",
              " 'ainda que mal',\n",
              " 'ainda que mal',\n",
              " 'ainda que mal',\n",
              " 'ainda que mal',\n",
              " 'ainda que mal',\n",
              " 'ainda que mal',\n",
              " 'ainda que mal',\n",
              " 'ainda que mal',\n",
              " 'ainda que mal',\n",
              " 'ainda que mal',\n",
              " 'ainda que mal',\n",
              " 'ainda que mal',\n",
              " 'ainda que mal',\n",
              " 'ainda que mal',\n",
              " 'ainda que mal',\n",
              " 'ainda que mal',\n",
              " 'ainda que mal']"
            ]
          },
          "metadata": {},
          "execution_count": 3
        }
      ]
    },
    {
      "cell_type": "code",
      "source": [],
      "metadata": {
        "id": "KN2i4Mvuy5vK"
      },
      "execution_count": null,
      "outputs": []
    },
    {
      "cell_type": "markdown",
      "source": [
        "#Exemplo 3 - Disjunção e intervalos"
      ],
      "metadata": {
        "id": "zwekgkDrG5-8"
      }
    },
    {
      "cell_type": "code",
      "source": [
        "import re\n",
        "\n",
        "descricao = \"\"\"Monitor LG 19.5'' LED HD - HDMI, 2ms, Ajuste de Inclinação, Reader Mode, 4-Screen Split, - 20MK400H-B\"\"\"\n",
        "\n",
        "re.findall(r\"[0-4]\", descricao)\n",
        "\n",
        "# len(re.findall(r\"[0-4]\", descricao))"
      ],
      "metadata": {
        "colab": {
          "base_uri": "https://localhost:8080/"
        },
        "id": "JsbryMu5HAbN",
        "outputId": "02315e78-1c54-4b2e-d483-bf67f63b46bc"
      },
      "execution_count": null,
      "outputs": [
        {
          "output_type": "execute_result",
          "data": {
            "text/plain": [
              "['1', '2', '4', '2', '0', '4', '0', '0']"
            ]
          },
          "metadata": {},
          "execution_count": 4
        }
      ]
    },
    {
      "cell_type": "markdown",
      "source": [
        "#Exemplo 4 - Negação na Disjunção"
      ],
      "metadata": {
        "id": "xVpzuhcqIAHT"
      }
    },
    {
      "cell_type": "code",
      "source": [
        "import re\n",
        "\n",
        "poema = \"\"\"Quando Ismália enlouqueceu,\n",
        "Pôs-se na torre a sonhar…\n",
        "Viu uma lua no céu,\n",
        "Viu outra lua no mar.\n",
        "\n",
        "No sonho em que se perdeu,\n",
        "Banhou-se toda em luar…\n",
        "Queria subir ao céu,\n",
        "Queria descer ao mar…\n",
        "\n",
        "E, no desvario seu,\n",
        "Na torre pôs-se a cantar…\n",
        "Estava perto do céu,\n",
        "Estava longe do mar…\n",
        "\n",
        "E como um anjo pendeu\n",
        "As asas para voar…\n",
        "Queria a lua do céu,\n",
        "Queria a lua do mar…\n",
        "\n",
        "As asas que Deus lhe deu\n",
        "Ruflaram de par em par…\n",
        "Sua alma subiu ao céu,\n",
        "Seu corpo desceu ao mar…\"\"\"\n",
        "\n",
        "re.findall(r\"[^a-z]\", poema) # todos os elementos exceto caracteres em letra maiúscula"
      ],
      "metadata": {
        "colab": {
          "base_uri": "https://localhost:8080/"
        },
        "id": "mUYsuT_mIEXb",
        "outputId": "0b04204f-9d3f-42b0-859b-5449950f88be"
      },
      "execution_count": null,
      "outputs": [
        {
          "output_type": "execute_result",
          "data": {
            "text/plain": [
              "['Q',\n",
              " ' ',\n",
              " 'I',\n",
              " 'á',\n",
              " ' ',\n",
              " ',',\n",
              " '\\n',\n",
              " 'P',\n",
              " 'ô',\n",
              " '-',\n",
              " ' ',\n",
              " ' ',\n",
              " ' ',\n",
              " ' ',\n",
              " '…',\n",
              " '\\n',\n",
              " 'V',\n",
              " ' ',\n",
              " ' ',\n",
              " ' ',\n",
              " ' ',\n",
              " 'é',\n",
              " ',',\n",
              " '\\n',\n",
              " 'V',\n",
              " ' ',\n",
              " ' ',\n",
              " ' ',\n",
              " ' ',\n",
              " '.',\n",
              " '\\n',\n",
              " '\\n',\n",
              " 'N',\n",
              " ' ',\n",
              " ' ',\n",
              " ' ',\n",
              " ' ',\n",
              " ' ',\n",
              " ',',\n",
              " '\\n',\n",
              " 'B',\n",
              " '-',\n",
              " ' ',\n",
              " ' ',\n",
              " ' ',\n",
              " '…',\n",
              " '\\n',\n",
              " 'Q',\n",
              " ' ',\n",
              " ' ',\n",
              " ' ',\n",
              " 'é',\n",
              " ',',\n",
              " '\\n',\n",
              " 'Q',\n",
              " ' ',\n",
              " ' ',\n",
              " ' ',\n",
              " '…',\n",
              " '\\n',\n",
              " '\\n',\n",
              " 'E',\n",
              " ',',\n",
              " ' ',\n",
              " ' ',\n",
              " ' ',\n",
              " ',',\n",
              " '\\n',\n",
              " 'N',\n",
              " ' ',\n",
              " ' ',\n",
              " 'ô',\n",
              " '-',\n",
              " ' ',\n",
              " ' ',\n",
              " '…',\n",
              " '\\n',\n",
              " 'E',\n",
              " ' ',\n",
              " ' ',\n",
              " ' ',\n",
              " 'é',\n",
              " ',',\n",
              " '\\n',\n",
              " 'E',\n",
              " ' ',\n",
              " ' ',\n",
              " ' ',\n",
              " '…',\n",
              " '\\n',\n",
              " '\\n',\n",
              " 'E',\n",
              " ' ',\n",
              " ' ',\n",
              " ' ',\n",
              " ' ',\n",
              " '\\n',\n",
              " 'A',\n",
              " ' ',\n",
              " ' ',\n",
              " ' ',\n",
              " '…',\n",
              " '\\n',\n",
              " 'Q',\n",
              " ' ',\n",
              " ' ',\n",
              " ' ',\n",
              " ' ',\n",
              " 'é',\n",
              " ',',\n",
              " '\\n',\n",
              " 'Q',\n",
              " ' ',\n",
              " ' ',\n",
              " ' ',\n",
              " ' ',\n",
              " '…',\n",
              " '\\n',\n",
              " '\\n',\n",
              " 'A',\n",
              " ' ',\n",
              " ' ',\n",
              " ' ',\n",
              " 'D',\n",
              " ' ',\n",
              " ' ',\n",
              " '\\n',\n",
              " 'R',\n",
              " ' ',\n",
              " ' ',\n",
              " ' ',\n",
              " ' ',\n",
              " '…',\n",
              " '\\n',\n",
              " 'S',\n",
              " ' ',\n",
              " ' ',\n",
              " ' ',\n",
              " ' ',\n",
              " 'é',\n",
              " ',',\n",
              " '\\n',\n",
              " 'S',\n",
              " ' ',\n",
              " ' ',\n",
              " ' ',\n",
              " ' ',\n",
              " '…']"
            ]
          },
          "metadata": {},
          "execution_count": 6
        }
      ]
    },
    {
      "cell_type": "markdown",
      "source": [
        "#Exemplo 5 - Múltiplos Padrões de Busca"
      ],
      "metadata": {
        "id": "IqnLi-doKNOq"
      }
    },
    {
      "cell_type": "code",
      "source": [
        "import re\n",
        "\n",
        "poema = \"\"\"No meio do caminho tinha uma pedra\n",
        "tinha uma pedra no meio do caminho\n",
        "tinha uma pedra\n",
        "no meio do caminho tinha uma pedra.\n",
        "\n",
        "Nunca me esquecerei desse acontecimento\n",
        "na vida de minhas retinas tão fatigadas.\n",
        "Nunca me esquecerei que no meio do caminho\n",
        "tinha uma pedra\n",
        "tinha uma pedra no meio do caminho\n",
        "no meio do caminho tinha uma pedra.\"\"\"\n",
        "\n",
        "re.findall(r\"pedra|[Tt]inha\", poema)  # busca todas as combinações de tinha e pedra"
      ],
      "metadata": {
        "colab": {
          "base_uri": "https://localhost:8080/"
        },
        "id": "S54UZUtDKXVl",
        "outputId": "178043a8-f318-4722-b41f-4b1eace7432b"
      },
      "execution_count": null,
      "outputs": [
        {
          "output_type": "execute_result",
          "data": {
            "text/plain": [
              "['tinha',\n",
              " 'pedra',\n",
              " 'tinha',\n",
              " 'pedra',\n",
              " 'tinha',\n",
              " 'pedra',\n",
              " 'tinha',\n",
              " 'pedra',\n",
              " 'tinha',\n",
              " 'pedra',\n",
              " 'tinha',\n",
              " 'pedra',\n",
              " 'tinha',\n",
              " 'pedra']"
            ]
          },
          "metadata": {},
          "execution_count": 8
        }
      ]
    },
    {
      "cell_type": "markdown",
      "source": [
        "#Exemplo 6 - Quantificadores"
      ],
      "metadata": {
        "id": "ehRlUGacOPkQ"
      }
    },
    {
      "cell_type": "code",
      "source": [
        "import re\n",
        "\n",
        "caso = \"\"\"Pode checar a conta ABC4323?\n",
        "          Emitir segunda via do boleto de Dezembro da conta YIC9834.\n",
        "          Meu nome é Gabriela, portador da conta NHD8432. Quantos créditos tenho?\"\"\"\n",
        "\n",
        "re.findall(r\"\\b[A-Z]{3}[0-9]{4}\\b\", caso) # filtra tudo que tem sequência de 3 letras maiúsculas e 4 números de 0 à 9"
      ],
      "metadata": {
        "colab": {
          "base_uri": "https://localhost:8080/"
        },
        "id": "2eMHgcrIOUzb",
        "outputId": "dc778f9e-0b11-43b6-a1fe-41f9e35e4c6c"
      },
      "execution_count": null,
      "outputs": [
        {
          "output_type": "execute_result",
          "data": {
            "text/plain": [
              "['ABC4323', 'YIC9834', 'NHD8432']"
            ]
          },
          "metadata": {},
          "execution_count": 11
        }
      ]
    },
    {
      "cell_type": "markdown",
      "source": [
        "#Exercicio: Como retornar os padrões de risos em mensagens de redes sociais? Como: Hahahaha | Huahuahua | Haha | KKK"
      ],
      "metadata": {
        "id": "f3DKfrSsQs5p"
      }
    },
    {
      "cell_type": "code",
      "source": [
        "import re\n",
        "\n",
        "expressoes = \"\"\"Hahahahaha\n",
        "                Huahuahuahua\n",
        "                Haha\n",
        "                kkkkk\"\"\"\n",
        "\n",
        "p = re.compile(r\"k+|([Hh|a])+|([Hh|ua])+\") # Podemos combinar uma expressão regular com objetos de padrões, que pode ser usado para encontrar padrões.\n",
        "iterador = p.finditer(expressoes) # encontra todas as substrings que têm correspondência com a expressão regular, e as retorna como um iterador\n",
        "\n",
        "for i in iterador:\n",
        "  inicio, fim = i.span() #  forma bem útil e eficiente para coletar informações em strings, encontrar padrões de textos\n",
        "  print(inicio, fim, expressoes[inicio:fim])"
      ],
      "metadata": {
        "colab": {
          "base_uri": "https://localhost:8080/"
        },
        "id": "Hfd-aNuVQ_Sz",
        "outputId": "ceea4694-18b1-4160-a57d-1426392a9f1e"
      },
      "execution_count": null,
      "outputs": [
        {
          "output_type": "stream",
          "name": "stdout",
          "text": [
            "0 10 Hahahahaha\n",
            "27 28 H\n",
            "28 39 uahuahuahua\n",
            "56 60 Haha\n",
            "77 82 kkkkk\n"
          ]
        }
      ]
    },
    {
      "cell_type": "markdown",
      "source": [
        "#Exemplo 7 - Substituição"
      ],
      "metadata": {
        "id": "hPEjlG_1pdRF"
      }
    },
    {
      "cell_type": "code",
      "source": [
        "import re\n",
        "\n",
        "texto = \"\"\"Reconheço que tomei decisões insatisfatórias recentemente, mas posso lhe garantir com absoluta certreza que meu trabalho voltará ao normal.\"\"\"\n",
        "\n",
        "re.sub(r'[,;.!\\n]','',texto) # substitui todos os parâmetros por um caractere vazio"
      ],
      "metadata": {
        "colab": {
          "base_uri": "https://localhost:8080/",
          "height": 35
        },
        "id": "cPPAf0Bjpirc",
        "outputId": "2c0ad368-3307-4ff5-b1aa-4714ef6914cd"
      },
      "execution_count": null,
      "outputs": [
        {
          "output_type": "execute_result",
          "data": {
            "text/plain": [
              "'Reconheço que tomei decisões insatisfatórias recentemente mas posso lhe garantir com absoluta certreza que meu trabalho voltará ao normal'"
            ],
            "application/vnd.google.colaboratory.intrinsic+json": {
              "type": "string"
            }
          },
          "metadata": {},
          "execution_count": 15
        }
      ]
    },
    {
      "cell_type": "markdown",
      "source": [
        "#Exemplo 8 - Memória"
      ],
      "metadata": {
        "id": "-potOVsEqZZV"
      }
    },
    {
      "cell_type": "code",
      "source": [
        "import re\n",
        "\n",
        "texto = \"\"\"Reconheço que tomei decisões insatisfatórias recentemente, mas posso lhe garantir com absoluta certreza que meu trabalho voltará ao normal.\"\"\"\n",
        "\n",
        "print(re.sub(r'([,;.!?:])',r' \\1', texto)) # adiciona um espaço entre as pontuações"
      ],
      "metadata": {
        "colab": {
          "base_uri": "https://localhost:8080/"
        },
        "id": "1i-YB88vqc--",
        "outputId": "8a42a31c-4a2b-4169-ee67-60a83df57bee"
      },
      "execution_count": null,
      "outputs": [
        {
          "output_type": "stream",
          "name": "stdout",
          "text": [
            "Reconheço que tomei decisões insatisfatórias recentemente , mas posso lhe garantir com absoluta certreza que meu trabalho voltará ao normal .\n"
          ]
        }
      ]
    },
    {
      "cell_type": "markdown",
      "source": [
        "#Exemplo - Distância de Edição"
      ],
      "metadata": {
        "id": "ttk00xJCw3qe"
      }
    },
    {
      "cell_type": "code",
      "source": [
        "from nltk.metrics import *  # estabelece uma infraestrutura que pode ser utilizada para criar programas de NLP\n",
        "\n",
        "\n",
        "a = \"Bello Horizonte\"\n",
        "b = \"Belo Horizonte\"\n",
        "\n",
        "distancia = edit_distance(a,b)\n",
        "\n",
        "print(\"A distância de Levenstein entre \", a, \"e\", b, \"é igual a\", distancia)"
      ],
      "metadata": {
        "colab": {
          "base_uri": "https://localhost:8080/"
        },
        "id": "KjApu7zQw-mU",
        "outputId": "a13be8ca-9a8f-44f8-a863-84050bad4744"
      },
      "execution_count": null,
      "outputs": [
        {
          "output_type": "stream",
          "name": "stdout",
          "text": [
            "A distância de Levenstein entre  Bello Horizonte e Belo Horizonte é igual a 1\n"
          ]
        }
      ]
    }
  ]
}